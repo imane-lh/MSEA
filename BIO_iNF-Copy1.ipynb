{
 "cells": [
  {
   "cell_type": "code",
   "execution_count": 2,
   "id": "6610f8bd",
   "metadata": {},
   "outputs": [
    {
     "name": "stdout",
     "output_type": "stream",
     "text": [
      "Requirement already satisfied: msea in c:\\users\\imane\\appdata\\roaming\\python\\python39\\site-packages (0.0.2)\n",
      "Requirement already satisfied: tqdm in c:\\users\\imane\\anaconda3\\lib\\site-packages (from msea) (4.64.1)\n",
      "Requirement already satisfied: numpy in c:\\users\\imane\\anaconda3\\lib\\site-packages (from msea) (1.22.4)\n",
      "Requirement already satisfied: pandas in c:\\users\\imane\\anaconda3\\lib\\site-packages (from msea) (1.4.4)\n",
      "Requirement already satisfied: scipy in c:\\users\\imane\\anaconda3\\lib\\site-packages (from msea) (1.7.3)\n",
      "Requirement already satisfied: python-dateutil>=2.8.1 in c:\\users\\imane\\anaconda3\\lib\\site-packages (from pandas->msea) (2.8.2)\n",
      "Requirement already satisfied: pytz>=2020.1 in c:\\users\\imane\\anaconda3\\lib\\site-packages (from pandas->msea) (2022.1)\n",
      "Requirement already satisfied: colorama in c:\\users\\imane\\anaconda3\\lib\\site-packages (from tqdm->msea) (0.4.5)\n",
      "Requirement already satisfied: six>=1.5 in c:\\users\\imane\\anaconda3\\lib\\site-packages (from python-dateutil>=2.8.1->pandas->msea) (1.15.0)\n"
     ]
    }
   ],
   "source": [
    "!pip install msea --user"
   ]
  },
  {
   "cell_type": "code",
   "execution_count": 1,
   "id": "9ed9cc44",
   "metadata": {},
   "outputs": [],
   "source": [
    "from pprint import pprint\n",
    "import msea\n",
    "from msea import SetLibrary\n",
    "import requests\n",
    "import os\n",
    "import pandas as pd\n"
   ]
  },
  {
   "cell_type": "code",
   "execution_count": 3,
   "id": "bb999439",
   "metadata": {},
   "outputs": [
    {
     "name": "stdout",
     "output_type": "stream",
     "text": [
      "Number of microbe-sets: 1286\n",
      "[('A2M', {'Sodalis', 'Borrelia', 'Salmonella', 'Pseudomonas', 'Azomonas'}),\n",
      " ('AAAS',\n",
      "  {'Colwellia',\n",
      "   'Deinococcus',\n",
      "   'Idiomarina',\n",
      "   'Neisseria',\n",
      "   'Pseudidiomarina',\n",
      "   'Pseudoalteromonas'}),\n",
      " ('AACS',\n",
      "  {'Acetobacter',\n",
      "   'Acinetobacter',\n",
      "   'Azomonas',\n",
      "   'Corynebacterium',\n",
      "   'Enterobacter',\n",
      "   'Klebsiella',\n",
      "   'Mycobacterium',\n",
      "   'Mycoplasma',\n",
      "   'Pseudomonas',\n",
      "   'Sodalis',\n",
      "   'Staphylococcus',\n",
      "   'Streptomyces',\n",
      "   'Tetragenococcus'})]\n"
     ]
    }
   ],
   "source": [
    "gmt_filepath = \\\n",
    "    'https://bitbucket.org/wangz10/msea/raw/aee6dd184e9bde152b4d7c2f3c7245efc1b80d23/msea/data/human_genes_associated_microbes/set_library.gmt'\n",
    "\n",
    "d_gmt = msea.read_gmt(gmt_filepath)\n",
    "print('Number of microbe-sets:', len(d_gmt))\n",
    "# Look at a couple of reference sets in the library\n",
    "pprint(list(d_gmt.items())[:3])"
   ]
  },
  {
   "cell_type": "code",
   "execution_count": 4,
   "id": "78c6cf48",
   "metadata": {},
   "outputs": [
    {
     "name": "stdout",
     "output_type": "stream",
     "text": [
      "Fichier téléchargé avec succès à l'emplacement : C:\\Users\\imane\\Downloads\\set_library.gmt\n"
     ]
    }
   ],
   "source": [
    "\n",
    "\n",
    "# URL du fichier à télécharger\n",
    "url = 'https://bitbucket.org/wangz10/msea/raw/aee6dd184e9bde152b4d7c2f3c7245efc1b80d23/msea/data/human_genes_associated_microbes/set_library.gmt'\n",
    "\n",
    "# Définir le chemin où le fichier sera enregistré\n",
    "save_path = r\"C:\\Users\\imane\\Downloads\\set_library.gmt\"  # Assure-toi que ce chemin correspond à ton emplacement exact\n",
    "\n",
    "# Télécharger le fichier\n",
    "response = requests.get(url)\n",
    "\n",
    "# Vérifier que le téléchargement s'est bien passé\n",
    "if response.status_code == 200:\n",
    "    with open(save_path, 'wb') as file:\n",
    "        file.write(response.content)\n",
    "    print(f\"Fichier téléchargé avec succès à l'emplacement : {save_path}\")\n",
    "else:\n",
    "    print(\"Erreur lors du téléchargement :\", response.status_code)\n"
   ]
  },
  {
   "cell_type": "code",
   "execution_count": 5,
   "id": "6f21f6bc",
   "metadata": {},
   "outputs": [
    {
     "name": "stdout",
     "output_type": "stream",
     "text": [
      "Fichier téléchargé avec succès à l'emplacement : C:\\Users\\imane\\Downloads\\set_library.csv\n"
     ]
    }
   ],
   "source": [
    "\n",
    "# URL du fichier à télécharger\n",
    "url = 'https://bitbucket.org/wangz10/msea/raw/aee6dd184e9bde152b4d7c2f3c7245efc1b80d23/msea/data/human_genes_associated_microbes/set_library.gmt'\n",
    "\n",
    "# Définir le chemin avec l'extension .csv\n",
    "save_path = r\"C:\\Users\\imane\\Downloads\\set_library.csv\"  # Modifie le nom de l'extension en .csv\n",
    "\n",
    "# Télécharger le fichier\n",
    "response = requests.get(url)\n",
    "\n",
    "# Vérifier que le téléchargement s'est bien passé\n",
    "if response.status_code == 200:\n",
    "    with open(save_path, 'wb') as file:\n",
    "        file.write(response.content)\n",
    "    print(f\"Fichier téléchargé avec succès à l'emplacement : {save_path}\")\n",
    "else:\n",
    "    print(\"Erreur lors du téléchargement :\", response.status_code)\n"
   ]
  },
  {
   "cell_type": "code",
   "execution_count": 7,
   "id": "9c1180f0",
   "metadata": {},
   "outputs": [
    {
     "name": "stdout",
     "output_type": "stream",
     "text": [
      "  Gene Name                                              Genus\n",
      "0       A2M  [A2M, Vibrio, Pseudomonas, Borrelia, Salmonell...\n",
      "1      AAAS  [AAAS, Alteromonas, Pseudidiomarina, Deinococc...\n",
      "2      AACS  [AACS, Enterococcus, Pseudomonas, Staphylococc...\n",
      "3      AARS  [AARS, Aeropyrum, Methanosphaera, Staphylococc...\n",
      "4     ABCA1  [ABCA1, Tannerella, Formosa, Pseudomonas, Lact...\n",
      "Fichier enregistré à : C:\\Users\\imane\\Downloads\\separated_columns.csv\n"
     ]
    }
   ],
   "source": [
    "\n",
    "\n",
    "# Load the file path\n",
    "file_path = r\"C:\\Users\\imane\\Downloads\\set_library.csv\"\n",
    "\n",
    "# Read the file line by line\n",
    "with open(file_path, 'r') as file:\n",
    "    lines = file.readlines()\n",
    "\n",
    "# Prepare lists to hold separated values\n",
    "gene_names = []\n",
    "genus_lists = []\n",
    "\n",
    "# Process each line to extract the required information\n",
    "for line in lines:\n",
    "    # Split by tab character\n",
    "    columns = line.strip().split('\\t')\n",
    "    \n",
    "    # Separate columns as per the requirement\n",
    "    gene_names.append(columns[0])  # First column as gene name\n",
    "    genus_lists.append(columns[0:])  # Remaining columns as genus list\n",
    "\n",
    "# Create a DataFrame with the separated columns\n",
    "df = pd.DataFrame({\n",
    "    'Gene Name': gene_names,\n",
    "    'Genus': genus_lists\n",
    "})\n",
    "\n",
    "# Display the DataFrame\n",
    "print(df.head())\n",
    "\n",
    "# Save the DataFrame to a CSV if needed\n",
    "output_path = r\"C:\\Users\\imane\\Downloads\\separated_columns.csv\"\n",
    "df.to_csv(output_path, index=False)\n",
    "print(f\"Fichier enregistré à : {output_path}\")\n"
   ]
  },
  {
   "cell_type": "code",
   "execution_count": 8,
   "id": "c5ae7e0f",
   "metadata": {},
   "outputs": [
    {
     "name": "stdout",
     "output_type": "stream",
     "text": [
      "Entrez le nom du genre à rechercher : Pseudomonas\n",
      "Gènes correspondant au genre 'Pseudomonas':\n",
      "     Gene Name                                              Genus\n",
      "0          A2M  [A2M, Vibrio, Pseudomonas, Borrelia, Salmonell...\n",
      "2         AACS  [AACS, Enterococcus, Pseudomonas, Staphylococc...\n",
      "3         AARS  [AARS, Aeropyrum, Methanosphaera, Staphylococc...\n",
      "4        ABCA1  [ABCA1, Tannerella, Formosa, Pseudomonas, Lact...\n",
      "5        ABCB1  [ABCB1, Yersinia, Staphylococcus, Klebsiella, ...\n",
      "...        ...                                                ...\n",
      "1271      XBP1  [XBP1, Yersinia, Legionella, Streptococcus, Fo...\n",
      "1273       XDH  [XDH, Staphylococcus, Acidovorax, Zymomonas, K...\n",
      "1274      XIAP  [XIAP, Staphylococcus, Anaplasma, Chlamydia, B...\n",
      "1278      XYLB  [XYLB, Zymomonas, Cellulomonas, Klebsiella, Th...\n",
      "1284       ZP1  [ZP1, Streptococcus, Pseudomonas, Staphylococc...\n",
      "\n",
      "[695 rows x 2 columns]\n"
     ]
    }
   ],
   "source": [
    "\n",
    "\n",
    "# Charger le fichier CSV contenant les données\n",
    "file_path = r\"C:\\Users\\imane\\Downloads\\separated_columns.csv\"\n",
    "df = pd.read_csv(file_path)\n",
    "\n",
    "# Comme les genres sont stockés sous forme de chaîne, il faut les convertir en listes réelles\n",
    "df['Genus'] = df['Genus'].apply(lambda x: eval(x) if isinstance(x, str) else x)\n",
    "\n",
    "# Fonction pour rechercher un genre et afficher les gènes correspondants\n",
    "def search_genus_signature(genus_name):\n",
    "    # Trouver les lignes où la liste des genres contient le genre recherché\n",
    "    matching_genes = df[df['Genus'].apply(lambda genus_list: genus_name in genus_list)]\n",
    "    \n",
    "    # Afficher les gènes correspondants\n",
    "    if not matching_genes.empty:\n",
    "        print(f\"Gènes correspondant au genre '{genus_name}':\")\n",
    "        print(matching_genes[['Gene Name', 'Genus']])\n",
    "    else:\n",
    "        print(f\"Aucun gène trouvé pour le genre '{genus_name}'.\")\n",
    "\n",
    "# Exemple d'utilisation\n",
    "genus_name = input(\"Entrez le nom du genre à rechercher : \")\n",
    "search_genus_signature(genus_name)\n"
   ]
  },
  {
   "cell_type": "code",
   "execution_count": 10,
   "id": "908c4bed",
   "metadata": {},
   "outputs": [
    {
     "name": "stdout",
     "output_type": "stream",
     "text": [
      "Entrez le nom du genre à rechercher : Borrelia\n",
      "Gènes correspondant au genre 'Borrelia':\n",
      "['A2M', 'AARS', 'AICDA', 'ALB', 'ALK', 'ALOX5', 'ANXA2', 'APOA1', 'APOB', 'APOE', 'AQP4', 'ATG7', 'BCL6', 'BSG', 'C1S', 'C3', 'C4A', 'C4B', 'CA4', 'CALCA', 'CASP1', 'CASP2', 'CASP3', 'CASP4', 'CASP6', 'CCL1', 'CCL11', 'CCL19', 'CCL2', 'CCL20', 'CCL21', 'CCL22', 'CCL7', 'CCL8', 'CCR2', 'CCR5', 'CCR7', 'CD163', 'CD19', 'CD1B', 'CD1C', 'CD1D', 'CD27', 'CD34', 'CD38', 'CD40', 'CD46', 'CD5', 'CD59', 'CD68', 'CD69', 'CD70', 'CD79A', 'CD80', 'CD83', 'CD86', 'CFB', 'CFH', 'CFLAR', 'CHUK', 'CLPP', 'CLPS', 'CLPX', 'CLU', 'CRP', 'CSF3', 'CTLA4', 'CX3CL1', 'CXCL1', 'CXCL10', 'CXCL11', 'CXCL12', 'CXCL13', 'CXCL2', 'CXCL3', 'CXCL5', 'CXCL6', 'CXCL8', 'CXCL9', 'CXCR2', 'CXCR3', 'CXCR4', 'CXCR6', 'DCN', 'DHH', 'DPP4', 'DUOX1', 'EEA1', 'EHF', 'FADD', 'FAS', 'FASLG', 'FGB', 'FOXP1', 'FOXP3', 'GALC', 'GAPDH', 'GBP1', 'GFAP', 'GSTM1', 'HAMP', 'HBB', 'HLA-DRB1', 'HMOX1', 'HPRT1', 'HTRA1', 'IAPP', 'ICAM1', 'ICAM3', 'IDO1', 'IFIT1', 'IFNAR1', 'IL10', 'IL13', 'IL15', 'IL17A', 'IL17F', 'IL18', 'IL1B', 'IL4', 'IL6', 'IRAK3', 'IRAK4', 'IRF3', 'IRF7', 'IVD', 'JAK3', 'JUND', 'KRT10', 'LAMP1', 'LBP', 'LDLR', 'LIAS', 'LOX', 'MALT1', 'MAP2K3', 'MAPK8', 'MBP', 'MDH2', 'MGMT', 'MMP13', 'MMP9', 'MOG', 'MX1', 'MYC', 'MYD88', 'NCF1', 'NES', 'NLRP1', 'NLRP3', 'NOD1', 'NOD2', 'NOS2', 'OAF', 'OAS1', 'PARVA', 'PBK', 'PI3', 'PLA2G4A', 'PLAUR', 'PLD2', 'PLG', 'PTGS1', 'PTGS2', 'PTPN22', 'PURA', 'PURB', 'RAB5A', 'RAG1', 'RAG2', 'REL', 'RELA', 'REV1', 'RIPK1', 'S100A9', 'SCARB1', 'SERPING1', 'SOCS1', 'SOCS3', 'SPN', 'SPP1', 'SRC', 'STAT1', 'STAT2', 'STAT3', 'STAT6', 'SYK', 'TBP', 'TGFB1', 'TIMP3', 'TLR1', 'TLR2', 'TLR3', 'TLR4', 'TLR6', 'TLR7', 'TLR8', 'TLR9', 'TNF', 'TNFAIP3', 'TNFSF13B', 'TOLLIP', 'TRAF1', 'TRAF6', 'TREM1', 'XIAP', 'XYLB']\n"
     ]
    }
   ],
   "source": [
    "\n",
    "\n",
    "file_path = r\"C:\\Users\\imane\\Downloads\\separated_columns.csv\"\n",
    "df = pd.read_csv(file_path)\n",
    "\n",
    "# Comme les genres sont stockés sous forme de chaîne, il faut les convertir en listes réelles\n",
    "df['Genus'] = df['Genus'].apply(lambda x: eval(x) if isinstance(x, str) else x)\n",
    "\n",
    "# Fonction pour rechercher un genre et afficher uniquement les gènes correspondants\n",
    "def search_genus_signature(genus_name):\n",
    "    # Trouver les lignes où la liste des genres contient le genre recherché\n",
    "    matching_genes = df[df['Genus'].apply(lambda genus_list: genus_name in genus_list)]\n",
    "    \n",
    "    # Afficher les noms des gènes correspondants\n",
    "    if not matching_genes.empty:\n",
    "        print(f\"Gènes correspondant au genre '{genus_name}':\")\n",
    "        print(matching_genes['Gene Name'].to_list())  # Afficher uniquement la colonne des noms de gènes\n",
    "    else:\n",
    "        print(f\"Aucun gène trouvé pour le genre '{genus_name}'.\")\n",
    "\n",
    "\n",
    "genus_name = input(\"Entrez le nom du genre à rechercher : \")\n",
    "search_genus_signature(genus_name)\n"
   ]
  },
  {
   "cell_type": "code",
   "execution_count": 13,
   "id": "c6b319da",
   "metadata": {},
   "outputs": [
    {
     "name": "stdout",
     "output_type": "stream",
     "text": [
      "Entrez le nom du genre à rechercher : Borrelia\n",
      "Nombre de gènes identifiés pour le genre 'Borrelia': 207\n",
      "Gènes trouvés :\n",
      "['A2M', 'AARS', 'AICDA', 'ALB', 'ALK', 'ALOX5', 'ANXA2', 'APOA1', 'APOB', 'APOE', 'AQP4', 'ATG7', 'BCL6', 'BSG', 'C1S', 'C3', 'C4A', 'C4B', 'CA4', 'CALCA', 'CASP1', 'CASP2', 'CASP3', 'CASP4', 'CASP6', 'CCL1', 'CCL11', 'CCL19', 'CCL2', 'CCL20', 'CCL21', 'CCL22', 'CCL7', 'CCL8', 'CCR2', 'CCR5', 'CCR7', 'CD163', 'CD19', 'CD1B', 'CD1C', 'CD1D', 'CD27', 'CD34', 'CD38', 'CD40', 'CD46', 'CD5', 'CD59', 'CD68', 'CD69', 'CD70', 'CD79A', 'CD80', 'CD83', 'CD86', 'CFB', 'CFH', 'CFLAR', 'CHUK', 'CLPP', 'CLPS', 'CLPX', 'CLU', 'CRP', 'CSF3', 'CTLA4', 'CX3CL1', 'CXCL1', 'CXCL10', 'CXCL11', 'CXCL12', 'CXCL13', 'CXCL2', 'CXCL3', 'CXCL5', 'CXCL6', 'CXCL8', 'CXCL9', 'CXCR2', 'CXCR3', 'CXCR4', 'CXCR6', 'DCN', 'DHH', 'DPP4', 'DUOX1', 'EEA1', 'EHF', 'FADD', 'FAS', 'FASLG', 'FGB', 'FOXP1', 'FOXP3', 'GALC', 'GAPDH', 'GBP1', 'GFAP', 'GSTM1', 'HAMP', 'HBB', 'HLA-DRB1', 'HMOX1', 'HPRT1', 'HTRA1', 'IAPP', 'ICAM1', 'ICAM3', 'IDO1', 'IFIT1', 'IFNAR1', 'IL10', 'IL13', 'IL15', 'IL17A', 'IL17F', 'IL18', 'IL1B', 'IL4', 'IL6', 'IRAK3', 'IRAK4', 'IRF3', 'IRF7', 'IVD', 'JAK3', 'JUND', 'KRT10', 'LAMP1', 'LBP', 'LDLR', 'LIAS', 'LOX', 'MALT1', 'MAP2K3', 'MAPK8', 'MBP', 'MDH2', 'MGMT', 'MMP13', 'MMP9', 'MOG', 'MX1', 'MYC', 'MYD88', 'NCF1', 'NES', 'NLRP1', 'NLRP3', 'NOD1', 'NOD2', 'NOS2', 'OAF', 'OAS1', 'PARVA', 'PBK', 'PI3', 'PLA2G4A', 'PLAUR', 'PLD2', 'PLG', 'PTGS1', 'PTGS2', 'PTPN22', 'PURA', 'PURB', 'RAB5A', 'RAG1', 'RAG2', 'REL', 'RELA', 'REV1', 'RIPK1', 'S100A9', 'SCARB1', 'SERPING1', 'SOCS1', 'SOCS3', 'SPN', 'SPP1', 'SRC', 'STAT1', 'STAT2', 'STAT3', 'STAT6', 'SYK', 'TBP', 'TGFB1', 'TIMP3', 'TLR1', 'TLR2', 'TLR3', 'TLR4', 'TLR6', 'TLR7', 'TLR8', 'TLR9', 'TNF', 'TNFAIP3', 'TNFSF13B', 'TOLLIP', 'TRAF1', 'TRAF6', 'TREM1', 'XIAP', 'XYLB']\n"
     ]
    }
   ],
   "source": [
    "\n",
    "\n",
    "# Charger le fichier CSV contenant les données\n",
    "file_path = r\"C:\\Users\\imane\\Downloads\\separated_columns.csv\"\n",
    "df = pd.read_csv(file_path)\n",
    "\n",
    "# Comme les genres sont stockés sous forme de chaîne, il faut les convertir en listes réelles\n",
    "df['Genus'] = df['Genus'].apply(lambda x: eval(x) if isinstance(x, str) else x)\n",
    "\n",
    "# Fonction pour rechercher un genre et afficher uniquement les gènes correspondants avec le nombre total\n",
    "def search_genus_signature(genus_name):\n",
    "    # Trouver les lignes où la liste des genres contient le genre recherché\n",
    "    matching_genes = df[df['Genus'].apply(lambda genus_list: genus_name in genus_list)]\n",
    "    \n",
    "    # Afficher uniquement les noms des gènes correspondants et leur nombre\n",
    "    if not matching_genes.empty:\n",
    "        gene_list = matching_genes['Gene Name'].to_list()\n",
    "        print(f\"Nombre de gènes identifiés pour le genre '{genus_name}': {len(gene_list)}\")\n",
    "        print(\"Gènes trouvés :\")\n",
    "        print(gene_list)\n",
    "    else:\n",
    "        print(f\"Aucun gène trouvé pour le genre '{genus_name}'.\")\n",
    "\n",
    "genus_name = input(\"Entrez le nom du genre à rechercher : \")\n",
    "search_genus_signature(genus_name)\n"
   ]
  },
  {
   "cell_type": "code",
   "execution_count": null,
   "id": "70667b02",
   "metadata": {},
   "outputs": [],
   "source": []
  },
  {
   "cell_type": "code",
   "execution_count": null,
   "id": "27b0edb4",
   "metadata": {},
   "outputs": [],
   "source": []
  }
 ],
 "metadata": {
  "kernelspec": {
   "display_name": "Python 3 (ipykernel)",
   "language": "python",
   "name": "python3"
  },
  "language_info": {
   "codemirror_mode": {
    "name": "ipython",
    "version": 3
   },
   "file_extension": ".py",
   "mimetype": "text/x-python",
   "name": "python",
   "nbconvert_exporter": "python",
   "pygments_lexer": "ipython3",
   "version": "3.9.13"
  }
 },
 "nbformat": 4,
 "nbformat_minor": 5
}
